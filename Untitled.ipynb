{
 "cells": [
  {
   "cell_type": "code",
   "execution_count": 5,
   "id": "10a8e1ee-3ef4-49bc-b662-b738b8ea3d49",
   "metadata": {},
   "outputs": [],
   "source": [
    "import sqlite3\n",
    "\n",
    "db = sqlite3.connect('data.db')"
   ]
  },
  {
   "cell_type": "code",
   "execution_count": 3,
   "id": "266a9e0d-bac8-4a12-91a6-c63dcedc9319",
   "metadata": {},
   "outputs": [
    {
     "data": {
      "text/plain": [
       "<sqlite3.Cursor at 0x7154112260>"
      ]
     },
     "execution_count": 3,
     "metadata": {},
     "output_type": "execute_result"
    }
   ],
   "source": [
    "db.execute(\"drop table prompts\")"
   ]
  },
  {
   "cell_type": "code",
   "execution_count": 6,
   "id": "3e2237e1-e943-4258-b2ff-16c5c5506f73",
   "metadata": {},
   "outputs": [
    {
     "data": {
      "text/plain": [
       "[(1,\n",
       "  993041280600907826,\n",
       "  'So do I love you!',\n",
       "  'gpt-3.5-turbo',\n",
       "  'As an AI language model, I do not have feelings or emotions. Therefore, I cannot love or be loved. Is there anything else I can assist you with?',\n",
       "  'deliverables',\n",
       "  '2023-05-15 18:27:35')]"
      ]
     },
     "execution_count": 6,
     "metadata": {},
     "output_type": "execute_result"
    }
   ],
   "source": [
    "db.execute(\"select * from prompts\").fetchmany(5)"
   ]
  }
 ],
 "metadata": {
  "kernelspec": {
   "display_name": "Python 3 (ipykernel)",
   "language": "python",
   "name": "python3"
  },
  "language_info": {
   "codemirror_mode": {
    "name": "ipython",
    "version": 3
   },
   "file_extension": ".py",
   "mimetype": "text/x-python",
   "name": "python",
   "nbconvert_exporter": "python",
   "pygments_lexer": "ipython3",
   "version": "3.9.2"
  }
 },
 "nbformat": 4,
 "nbformat_minor": 5
}
