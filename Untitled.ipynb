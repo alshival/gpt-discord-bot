{
 "cells": [
  {
   "cell_type": "code",
   "execution_count": 3,
   "id": "49d1da17-21ab-40dd-acc8-078ba945e1c1",
   "metadata": {},
   "outputs": [
    {
     "data": {
      "text/plain": [
       "'MTEwMzkzNTg2OTM3MjYwODU4Mw.GE8u3j.JCLTtPT1pXZYc625iejDcY928VOgfjSENxbhQM'"
      ]
     },
     "execution_count": 3,
     "metadata": {},
     "output_type": "execute_result"
    }
   ],
   "source": [
    "import os\n",
    "os.environ.get(\"DISCORD_BOT_TOKEN\")"
   ]
  }
 ],
 "metadata": {
  "kernelspec": {
   "display_name": "Python 3 (ipykernel)",
   "language": "python",
   "name": "python3"
  },
  "language_info": {
   "codemirror_mode": {
    "name": "ipython",
    "version": 3
   },
   "file_extension": ".py",
   "mimetype": "text/x-python",
   "name": "python",
   "nbconvert_exporter": "python",
   "pygments_lexer": "ipython3",
   "version": "3.9.2"
  }
 },
 "nbformat": 4,
 "nbformat_minor": 5
}
