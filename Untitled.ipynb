{
 "cells": [
  {
   "cell_type": "code",
   "execution_count": 27,
   "id": "a57bb1b9-97bc-4ea0-b34c-d8d1cce20827",
   "metadata": {},
   "outputs": [],
   "source": [
    "from datetime import datetime,timedelta"
   ]
  },
  {
   "cell_type": "code",
   "execution_count": 39,
   "id": "a9ad3e82-02c3-47cb-8e0b-0e8a39f3678a",
   "metadata": {},
   "outputs": [],
   "source": [
    "import json"
   ]
  },
  {
   "cell_type": "code",
   "execution_count": 60,
   "id": "4f0a7cc6-e222-429a-b0ec-d6b7bb394efa",
   "metadata": {},
   "outputs": [
    {
     "data": {
      "text/plain": [
       "[]"
      ]
     },
     "execution_count": 60,
     "metadata": {},
     "output_type": "execute_result"
    }
   ],
   "source": [
    "import sqlite3\n",
    "db = sqlite3.connect(\"data.db\")\n",
    "\n",
    "db.execute(f\"SELECT * FROM labeled_prompts ORDER BY id DESC LIMIT 1\").fetchall()\n",
    "#db.close()"
   ]
  },
  {
   "cell_type": "code",
   "execution_count": 59,
   "id": "588e421f-4e26-4181-9b86-ef899516d6ba",
   "metadata": {},
   "outputs": [
    {
     "data": {
      "text/plain": [
       "[(2,\n",
       "  'alshival',\n",
       "  'Turn in assignment',\n",
       "  '1108138647934476478',\n",
       "  'playground',\n",
       "  '2023-05-16 16:13:00')]"
      ]
     },
     "execution_count": 59,
     "metadata": {},
     "output_type": "execute_result"
    }
   ],
   "source": [
    "db.execute(f\"SELECT * FROM reminders ORDER BY id DESC LIMIT 1\").fetchall()\n",
    "#db.close()"
   ]
  },
  {
   "cell_type": "code",
   "execution_count": null,
   "id": "d9a9c310-1293-4abc-aa8e-8e00d580bd98",
   "metadata": {},
   "outputs": [],
   "source": [
    "@bot.command(name='label_last')\n",
    "async def label_last(ctx, label: str):\n",
    "    # Verify the label\n",
    "    if label not in ['reminder', 'other']:\n",
    "        await ctx.send(\"Invalid label. Please use 'reminder' or 'other'.\")\n",
    "        return\n",
    "    db_conn = await create_connection()\n",
    "    channel_name = ctx.channel.name\n",
    "    \n",
    "    await ctx.send(f\"Last promped labeled as: {label}\""
   ]
  },
  {
   "cell_type": "code",
   "execution_count": null,
   "id": "3a73c1e1-485d-48ef-9906-29c9da1e9137",
   "metadata": {},
   "outputs": [],
   "source": [
    "@bot.command(name='label_last')\n",
    "async def label_last(ctx, label: str):\n",
    "\n",
    "    \n",
    "    # Query to get the last row from 'prompts' table\n",
    "    cursor.execute(f\"SELECT * FROM prompts where channel_name = '{channel_name}'ORDER BY id DESC LIMIT 1\")\n",
    "    last_row = cursor.fetchone()\n",
    "    \n",
    "    # If last_row is not None, insert its data into 'labeled_prompts'\n",
    "    if last_row is not None:\n",
    "        insert_query = '''INSERT INTO labeled_prompts (id, username, prompt, model, response, channel_name, label, timestamp)\n",
    "                          VALUES (?, ?, ?, ?, ?, ?, ?, ?)'''\n",
    "        data_tuple = last_row + (label,)  # Add label to the tuple\n",
    "        cursor.execute(insert_query, data_tuple)\n",
    "    else:\n",
    "        await ctx.send(\"No data in 'prompts' table.\")\n",
    "    conn.commit()\n",
    "    await ctx.send(f\"Labeled last prompt with label: {label}\")"
   ]
  },
  {
   "cell_type": "code",
   "execution_count": 3,
   "id": "43e1ace9-7a9c-42c6-8090-bec956e844d2",
   "metadata": {},
   "outputs": [],
   "source": [
    "messages = [\n",
    "    \"Remind me to pick up the kids in 45 minutes\",\n",
    "    \"Remind me to turn in my homework at midnight\",\n",
    "    \"What's your favorite color?\",\n",
    "    \"Remind me to call mom at 3pm.\",\n",
    "    \"Can you send me the report?\",\n",
    "    \"Buy tickets for the concert\",\n",
    "    \"Remind me to pick up some milk later.\",\n",
    "    \"Remind us to study for the final exam next week.\",\n",
    "    \"remind me to fix my essay in an hour.\",\n",
    "    \"remind me to throw my shoes away in three days.\",\n",
    "    \"About how many atoms are there in the universe?\",\n",
    "    \"Remind me to feed the dog at 6pm.\",\n",
    "    \"Let's play a game.\",\n",
    "    \"Can you turn on the TV?\",\n",
    "    \"Remind me to check my email after dinner.\",\n",
    "    \"What's the weather like today?\",\n",
    "    \"Remind me to take my medicine at 8am.\",\n",
    "    \"Let's order pizza for dinner.\",\n",
    "    \"Remind me to water the plants tomorrow morning.\",\n",
    "    \"How many planets are there in our solar system?\",\n",
    "    \"Remind me to book a doctor's appointment next Monday.\",\n",
    "    \"Can you find a good recipe for spaghetti bolognese?\",\n",
    "    \"Remind me to charge my phone.\",\n",
    "    \"Who won the basketball game last night?\",\n",
    "    \"Remind me to finish my online course this weekend.\",\n",
    "    \"Can you tell me a joke?\",\n",
    "    \"Remind me to call the plumber tomorrow.\",\n",
    "    \"What's the capital of Australia?\",\n",
    "    \"Remind me to renew my driver's license next month.\",\n",
    "    \"Remind me to buy groceries on the way home.\",\n",
    "    \"What time is it?\",\n",
    "    \"Remind me to pick up my dry cleaning this afternoon.\",\n",
    "    \"Who won the Oscar for Best Picture last year?\",\n",
    "    \"Remind me to check the oven in 30 minutes.\",\n",
    "    \"Can you recommend a good book?\",\n",
    "    \"Remind me to schedule a team meeting for next Tuesday.\",\n",
    "    \"What's the score of the baseball game?\",\n",
    "    \"Remind me to fill up the car with gas tomorrow.\",\n",
    "    \"Can you find the fastest route to the airport?\",\n",
    "    \"Remind me to pay the electric bill by the end of the week.\",\n",
    "    \"Who is the president of the United States?\",\n",
    "    \"Remind me to update my resume this weekend.\",\n",
    "    \"Can you play my favorite song?\",\n",
    "    \"Remind me to check in for my flight 24 hours before departure.\",\n",
    "    \"What are the ingredients in a Caesar salad?\",\n",
    "    \"Remind me to bring my umbrella if it's going to rain tomorrow.\",\n",
    "    \"How do you make a margarita?\",\n",
    "    \"Remind me to pick up the kids in 45 minutes\",\n",
    "    \"Remind me to turn in my homework at midnight\",\n",
    "    \"What's your favorite color?\",\n",
    "    \"Remind me to call mom at 3pm.\",\n",
    "    \"Can you send me the report?\",\n",
    "    \"Buy tickets for the concert\",\n",
    "    \"Remind me to pick up some milk later.\",\n",
    "    \"Remind us to study for the final exam next week.\",\n",
    "    \"remind me to fix my essay in an hour.\",\n",
    "    \"remind me to throw my shoes away in three days.\",\n",
    "    \"About how many atoms are there in the universe?\",\n",
    "    \"Remind me to feed the dog at 6pm.\",\n",
    "    \"Let's play a game.\",\n",
    "    \"Can you turn on the TV?\",\n",
    "    \"Remind me to check my email after dinner.\",\n",
    "    \"What's the weather like today?\",\n",
    "    \"Remind me to take my medicine at 8am.\",\n",
    "    \"Let's order pizza for dinner.\",\n",
    "    \"Remind me to water the plants tomorrow morning.\",\n",
    "    \"How many planets are there in our solar system?\",\n",
    "    \"Remind me to book a doctor's appointment next Monday.\",\n",
    "    \"Can you find a good recipe for spaghetti bolognese?\",\n",
    "    \"Remind me to charge my phone.\",\n",
    "    \"Who won the basketball game last night?\",\n",
    "    \"Remind me to finish my online course this weekend.\",\n",
    "    \"Can you tell me a joke?\",\n",
    "    \"Remind me to call the plumber tomorrow.\",\n",
    "    \"What's the capital of Australia?\",\n",
    "    \"Remind me to renew my driver's license next month.\",\n",
    "    \"Remind me to buy groceries on the way home.\",\n",
    "    \"What time is it?\",\n",
    "    \"Remind me to pick up my dry cleaning this afternoon.\",\n",
    "    \"Who won the Oscar for Best Picture last year?\",\n",
    "    \"Remind me to check the oven in 30 minutes.\",\n",
    "    \"Can you recommend a good book?\",\n",
    "    \"Remind me to schedule a team meeting for next Tuesday.\",\n",
    "    \"What's the score of the baseball game?\",\n",
    "    \"Remind me to fill up the car with gas tomorrow.\",\n",
    "    \"Can you find the fastest route to the airport?\",\n",
    "    \"Remind me to pay the electric bill by the end of the week.\",\n",
    "    \"Who is the president of the United States?\",\n",
    "    \"Remind me to update my resume this weekend.\",\n",
    "    \"Can you play my favorite song?\",\n",
    "    \"Remind me to check in for my flight 24 hours before departure.\",\n",
    "    \"What are the ingredients in a Caesar salad?\",\n",
    "    \"Remind me to bring my umbrella if it's going to rain tomorrow.\",\n",
    "    \"How do you make a margarita?\"\n",
    "]\n",
    "labels = ['reminder', 'reminder', 'other', 'reminder', 'other', 'other','reminder','reminder','reminder','reminder','other',\n",
    "          'reminder', 'other', 'other', 'reminder', 'other', 'reminder', 'other', 'reminder', 'other', 'reminder', 'other', 'reminder', \n",
    "          'other', 'reminder', 'other', 'reminder', 'other', 'reminder','reminder', 'other', 'reminder', 'other', 'reminder', \n",
    "          'other', 'reminder', 'other', 'reminder', 'other', 'reminder', 'other', 'reminder', 'other', 'reminder', 'other', 'reminder', 'other','reminder', 'reminder', 'other', 'reminder', 'other', 'other', 'reminder', 'reminder', 'reminder', 'reminder', 'other',\n",
    "      'reminder', 'other', 'other', 'reminder', 'other', 'reminder', 'other', 'reminder', 'other', 'reminder', 'other', 'reminder',\n",
    "      'other', 'reminder', 'other', 'reminder', 'other', 'reminder', 'reminder', 'other', 'reminder', 'other', 'reminder',\n",
    "      'other', 'reminder', 'other', 'reminder', 'other', 'reminder', 'other', 'reminder', 'other', 'reminder', 'other',\n",
    "      'reminder', 'other', 'reminder', 'other', 'reminder', 'other']"
   ]
  },
  {
   "cell_type": "code",
   "execution_count": 41,
   "id": "bec947c5-a043-4566-81eb-7781fe3ce26b",
   "metadata": {},
   "outputs": [
    {
     "data": {
      "text/plain": [
       "True"
      ]
     },
     "execution_count": 41,
     "metadata": {},
     "output_type": "execute_result"
    }
   ],
   "source": [
    "re.search('Remind|remind',messages[2]) is None"
   ]
  },
  {
   "cell_type": "code",
   "execution_count": 43,
   "id": "36070797-b2c6-48a1-8cfd-9444d07885a4",
   "metadata": {},
   "outputs": [
    {
     "data": {
      "text/plain": [
       "['reminder',\n",
       " 'reminder',\n",
       " 'other',\n",
       " 'reminder',\n",
       " 'other',\n",
       " 'other',\n",
       " 'reminder',\n",
       " 'reminder',\n",
       " 'reminder',\n",
       " 'reminder',\n",
       " 'other',\n",
       " 'reminder',\n",
       " 'other',\n",
       " 'other',\n",
       " 'reminder',\n",
       " 'other',\n",
       " 'reminder',\n",
       " 'other',\n",
       " 'reminder',\n",
       " 'other',\n",
       " 'reminder',\n",
       " 'other',\n",
       " 'reminder',\n",
       " 'other',\n",
       " 'reminder',\n",
       " 'other',\n",
       " 'reminder',\n",
       " 'other',\n",
       " 'reminder',\n",
       " 'reminder',\n",
       " 'other',\n",
       " 'reminder',\n",
       " 'other',\n",
       " 'reminder',\n",
       " 'other',\n",
       " 'reminder',\n",
       " 'other',\n",
       " 'reminder',\n",
       " 'other',\n",
       " 'reminder',\n",
       " 'other',\n",
       " 'reminder',\n",
       " 'other',\n",
       " 'reminder',\n",
       " 'other',\n",
       " 'reminder',\n",
       " 'other',\n",
       " 'reminder',\n",
       " 'reminder',\n",
       " 'other',\n",
       " 'reminder',\n",
       " 'other',\n",
       " 'other',\n",
       " 'reminder',\n",
       " 'reminder',\n",
       " 'reminder',\n",
       " 'reminder',\n",
       " 'other',\n",
       " 'reminder',\n",
       " 'other',\n",
       " 'other',\n",
       " 'reminder',\n",
       " 'other',\n",
       " 'reminder',\n",
       " 'other',\n",
       " 'reminder',\n",
       " 'other',\n",
       " 'reminder',\n",
       " 'other',\n",
       " 'reminder',\n",
       " 'other',\n",
       " 'reminder',\n",
       " 'other',\n",
       " 'reminder',\n",
       " 'other',\n",
       " 'reminder',\n",
       " 'reminder',\n",
       " 'other',\n",
       " 'reminder',\n",
       " 'other',\n",
       " 'reminder',\n",
       " 'other',\n",
       " 'reminder',\n",
       " 'other',\n",
       " 'reminder',\n",
       " 'other',\n",
       " 'reminder',\n",
       " 'other',\n",
       " 'reminder',\n",
       " 'other',\n",
       " 'reminder',\n",
       " 'other',\n",
       " 'reminder',\n",
       " 'other']"
      ]
     },
     "execution_count": 43,
     "metadata": {},
     "output_type": "execute_result"
    }
   ],
   "source": [
    "import re\n",
    "\n",
    "labels = []\n",
    "for message in messages:\n",
    "    if re.search('Remind|remind',message) is None:\n",
    "        labels.append('other')\n",
    "    else:\n",
    "        labels.append('reminder')\n",
    "labels"
   ]
  },
  {
   "cell_type": "code",
   "execution_count": 44,
   "id": "bcd2c969-0db3-49d5-b8f4-84f89c851dc8",
   "metadata": {},
   "outputs": [
    {
     "data": {
      "text/plain": [
       "94"
      ]
     },
     "execution_count": 44,
     "metadata": {},
     "output_type": "execute_result"
    }
   ],
   "source": [
    "len(labels)"
   ]
  },
  {
   "cell_type": "code",
   "execution_count": 18,
   "id": "9865e02a-238e-40d3-838d-a3a261546c53",
   "metadata": {},
   "outputs": [
    {
     "data": {
      "text/plain": [
       "97"
      ]
     },
     "execution_count": 18,
     "metadata": {},
     "output_type": "execute_result"
    }
   ],
   "source": [
    "labels = [\n",
    "    'reminder',\n",
    "    'reminder',\n",
    "    'other',\n",
    "    'reminder',\n",
    "    'other',\n",
    "    'other',\n",
    "    'reminder',\n",
    "    'reminder',\n",
    "    'reminder',\n",
    "    'reminder',\n",
    "    'other',\n",
    "    'reminder',\n",
    "    'other',\n",
    "    'other',\n",
    "    'reminder',\n",
    "    'other',\n",
    "    'reminder',\n",
    "    'other',\n",
    "    'reminder',\n",
    "    'other',\n",
    "    'reminder',\n",
    "    'other',\n",
    "    'reminder',\n",
    "    'other',\n",
    "    'reminder',\n",
    "    'other',\n",
    "    'reminder',\n",
    "    'other',\n",
    "    'reminder',\n",
    "    'reminder',\n",
    "    'other',\n",
    "    'reminder',\n",
    "    'other',\n",
    "    'reminder',\n",
    "    'other',\n",
    "    'reminder',\n",
    "    'other',\n",
    "    'reminder',\n",
    "    'other',\n",
    "    'reminder',\n",
    "    'other',\n",
    "    'reminder',\n",
    "    'other',\n",
    "    'reminder',\n",
    "    'other',\n",
    "    'reminder',\n",
    "    'other',\n",
    "    'reminder',\n",
    "    'other',\n",
    "    'reminder',\n",
    "    'reminder',\n",
    "    'other',\n",
    "    'reminder',\n",
    "    'other',\n",
    "    'other',\n",
    "    'reminder',\n",
    "    'reminder',\n",
    "    'reminder',\n",
    "    'reminder',\n",
    "    'other',\n",
    "    'reminder',\n",
    "    'other',\n",
    "    'other',\n",
    "    'reminder',\n",
    "    'other',\n",
    "    'reminder',\n",
    "    'other',\n",
    "    'reminder',\n",
    "    'other',\n",
    "    'reminder',\n",
    "    'other',\n",
    "    'reminder',\n",
    "    'other',\n",
    "    'reminder',\n",
    "    'other',\n",
    "    'reminder',\n",
    "    'other',\n",
    "    'reminder',\n",
    "    'reminder',\n",
    "    'other',\n",
    "    'reminder',\n",
    "    'other',\n",
    "    'reminder',\n",
    "    'other',\n",
    "    'reminder',\n",
    "    'other',\n",
    "    'reminder',\n",
    "    'other',\n",
    "    'reminder',\n",
    "    'other',\n",
    "    'reminder',\n",
    "    'other',\n",
    "    'reminder',\n",
    "    'other',\n",
    "    'reminder',\n",
    "    'other',\n",
    "    'reminder'\n",
    "]\n",
    "len(labels)"
   ]
  },
  {
   "cell_type": "code",
   "execution_count": 19,
   "id": "70d22f22-5d13-4f4f-8a96-71281eccded4",
   "metadata": {},
   "outputs": [
    {
     "data": {
      "text/plain": [
       "94"
      ]
     },
     "execution_count": 19,
     "metadata": {},
     "output_type": "execute_result"
    }
   ],
   "source": [
    "    messages = [\n",
    "        \"Remind me to pick up the kids in 45 minutes\",\n",
    "        \"Remind me to turn in my homework at midnight\",\n",
    "        \"What's your favorite color?\",\n",
    "        \"Remind me to call mom at 3pm.\",\n",
    "        \"Can you send me the report?\",\n",
    "        \"Buy tickets for the concert\",\n",
    "        \"Remind me to pick up some milk later.\",\n",
    "        \"Remind us to study for the final exam next week.\",\n",
    "        \"remind me to fix my essay in an hour.\",\n",
    "        \"remind me to throw my shoes away in three days.\",\n",
    "        \"About how many atoms are there in the universe?\",\n",
    "        \"Remind me to feed the dog at 6pm.\",\n",
    "        \"Let's play a game.\",\n",
    "        \"Can you turn on the TV?\",\n",
    "        \"Remind me to check my email after dinner.\",\n",
    "        \"What's the weather like today?\",\n",
    "        \"Remind me to take my medicine at 8am.\",\n",
    "        \"Let's order pizza for dinner.\",\n",
    "        \"Remind me to water the plants tomorrow morning.\",\n",
    "        \"How many planets are there in our solar system?\",\n",
    "        \"Remind me to book a doctor's appointment next Monday.\",\n",
    "        \"Can you find a good recipe for spaghetti bolognese?\",\n",
    "        \"Remind me to charge my phone.\",\n",
    "        \"Who won the basketball game last night?\",\n",
    "        \"Remind me to finish my online course this weekend.\",\n",
    "        \"Can you tell me a joke?\",\n",
    "        \"Remind me to call the plumber tomorrow.\",\n",
    "        \"What's the capital of Australia?\",\n",
    "        \"Remind me to renew my driver's license next month.\",\n",
    "        \"Remind me to buy groceries on the way home.\",\n",
    "        \"What time is it?\",\n",
    "        \"Remind me to pick up my dry cleaning this afternoon.\",\n",
    "        \"Who won the Oscar for Best Picture last year?\",\n",
    "        \"Remind me to check the oven in 30 minutes.\",\n",
    "        \"Can you recommend a good book?\",\n",
    "        \"Remind me to schedule a team meeting for next Tuesday.\",\n",
    "        \"What's the score of the baseball game?\",\n",
    "        \"Remind me to fill up the car with gas tomorrow.\",\n",
    "        \"Can you find the fastest route to the airport?\",\n",
    "        \"Remind me to pay the electric bill by the end of the week.\",\n",
    "        \"Who is the president of the United States?\",\n",
    "        \"Remind me to update my resume this weekend.\",\n",
    "        \"Can you play my favorite song?\",\n",
    "        \"Remind me to check in for my flight 24 hours before departure.\",\n",
    "        \"What are the ingredients in a Caesar salad?\",\n",
    "        \"Remind me to bring my umbrella if it's going to rain tomorrow.\",\n",
    "        \"How do you make a margarita?\",\n",
    "        \"Remind me to pick up the kids in 45 minutes\",\n",
    "        \"Remind me to turn in my homework at midnight\",\n",
    "        \"What's your favorite color?\",\n",
    "        \"Remind me to call mom at 3pm.\",\n",
    "        \"Can you send me the report?\",\n",
    "        \"Buy tickets for the concert\",\n",
    "        \"Remind me to pick up some milk later.\",\n",
    "        \"Remind us to study for the final exam next week.\",\n",
    "        \"remind me to fix my essay in an hour.\",\n",
    "        \"remind me to throw my shoes away in three days.\",\n",
    "        \"About how many atoms are there in the universe?\",\n",
    "        \"Remind me to feed the dog at 6pm.\",\n",
    "        \"Let's play a game.\",\n",
    "        \"Can you turn on the TV?\",\n",
    "        \"Remind me to check my email after dinner.\",\n",
    "        \"What's the weather like today?\",\n",
    "        \"Remind me to take my medicine at 8am.\",\n",
    "        \"Let's order pizza for dinner.\",\n",
    "        \"Remind me to water the plants tomorrow morning.\",\n",
    "        \"How many planets are there in our solar system?\",\n",
    "        \"Remind me to book a doctor's appointment next Monday.\",\n",
    "        \"Can you find a good recipe for spaghetti bolognese?\",\n",
    "        \"Remind me to charge my phone.\",\n",
    "        \"Who won the basketball game last night?\",\n",
    "        \"Remind me to finish my online course this weekend.\",\n",
    "        \"Can you tell me a joke?\",\n",
    "        \"Remind me to call the plumber tomorrow.\",\n",
    "        \"What's the capital of Australia?\",\n",
    "        \"Remind me to renew my driver's license next month.\",\n",
    "        \"Remind me to buy groceries on the way home.\",\n",
    "        \"What time is it?\",\n",
    "        \"Remind me to pick up my dry cleaning this afternoon.\",\n",
    "        \"Who won the Oscar for Best Picture last year?\",\n",
    "        \"Remind me to check the oven in 30 minutes.\",\n",
    "        \"Can you recommend a good book?\",\n",
    "        \"Remind me to schedule a team meeting for next Tuesday.\",\n",
    "        \"What's the score of the baseball game?\",\n",
    "        \"Remind me to fill up the car with gas tomorrow.\",\n",
    "        \"Can you find the fastest route to the airport?\",\n",
    "        \"Remind me to pay the electric bill by the end of the week.\",\n",
    "        \"Who is the president of the United States?\",\n",
    "        \"Remind me to update my resume this weekend.\",\n",
    "        \"Can you play my favorite song?\",\n",
    "        \"Remind me to check in for my flight 24 hours before departure.\",\n",
    "        \"What are the ingredients in a Caesar salad?\",\n",
    "        \"Remind me to bring my umbrella if it's going to rain tomorrow.\",\n",
    "        \"How do you make a margarita?\"\n",
    "    ]\n",
    "len(messages)"
   ]
  },
  {
   "cell_type": "code",
   "execution_count": 82,
   "id": "9f351664-429b-4152-b456-7300edee47e9",
   "metadata": {},
   "outputs": [
    {
     "data": {
      "text/plain": [
       "{'message': 'Call mom',\n",
       " 'reminder_time': \"(datetime.now() + timedelta(weeks=1)).strftime('%Y-%m-%d %H:%M')\"}"
      ]
     },
     "execution_count": 82,
     "metadata": {},
     "output_type": "execute_result"
    }
   ],
   "source": [
    "{\"message\":\"Call mom\",\"reminder_time\":\"(datetime.now() + timedelta(weeks=1)).strftime('%Y-%m-%d %H:%M')\"}"
   ]
  },
  {
   "cell_type": "code",
   "execution_count": 80,
   "id": "0f959d2e-65a6-4ccf-804a-944d636152e0",
   "metadata": {},
   "outputs": [
    {
     "name": "stdout",
     "output_type": "stream",
     "text": [
      "{'message': 'Buy groceries', 'response_time': '2023-38-19 13:38:00'}\n"
     ]
    }
   ],
   "source": [
    "import datetime\n",
    "import ast\n",
    "\n",
    "# Original string\n",
    "original_string = '{\"message\":\"Buy groceries\",\"response_time\":\"datetime.datetime.now()+datetime.timedelta(days=3)\"}'\n",
    "\n",
    "# Evaluate the datetime in the string\n",
    "evaluated_datetime = eval(original_string)\n",
    "\n",
    "# Convert the evaluated datetime to the actual datetime value\n",
    "response_time = eval(evaluated_datetime['response_time']).strftime('%Y-%M-%d %H:%M:00')\n",
    "\n",
    "# Format the response_time to include only hours and minutes\n",
    "#formatted_response_time = response_time.strftime('%H:%M')\n",
    "\n",
    "# Create the resulting dictionary\n",
    "dictionary = {\n",
    "    'message': evaluated_datetime['message'],\n",
    "    'response_time': response_time\n",
    "}\n",
    "\n",
    "# Output the resulting dictionary\n",
    "print(dictionary)\n"
   ]
  },
  {
   "cell_type": "code",
   "execution_count": 58,
   "id": "cd89ef95-d7c2-4121-a7bd-8084f71c1aa0",
   "metadata": {},
   "outputs": [
    {
     "ename": "ValueError",
     "evalue": "dictionary update sequence element #0 has length 1; 2 is required",
     "output_type": "error",
     "traceback": [
      "\u001b[0;31m---------------------------------------------------------------------------\u001b[0m",
      "\u001b[0;31mValueError\u001b[0m                                Traceback (most recent call last)",
      "Cell \u001b[0;32mIn[60], line 1\u001b[0m\n\u001b[0;32m----> 1\u001b[0m x \u001b[38;5;241m=\u001b[39m \u001b[38;5;28;43mdict\u001b[39;49m\u001b[43m(\u001b[49m\u001b[38;5;124;43m'\u001b[39;49m\u001b[38;5;124;43m{\u001b[39;49m\u001b[38;5;124;43m\"\u001b[39;49m\u001b[38;5;124;43mmessage\u001b[39;49m\u001b[38;5;124;43m\"\u001b[39;49m\u001b[38;5;124;43m:\u001b[39;49m\u001b[38;5;124;43m\"\u001b[39;49m\u001b[38;5;124;43mCall mom\u001b[39;49m\u001b[38;5;124;43m\"\u001b[39;49m\u001b[38;5;124;43m,\u001b[39;49m\u001b[38;5;124;43m\"\u001b[39;49m\u001b[38;5;124;43mreminder_time\u001b[39;49m\u001b[38;5;124;43m\"\u001b[39;49m\u001b[38;5;124;43m:\u001b[39;49m\u001b[38;5;124;43m\"\u001b[39;49m\u001b[38;5;124;43m{\u001b[39;49m\u001b[38;5;124;43m(datetime.now() + timedelta(weeks=1)).strftime(\u001b[39;49m\u001b[38;5;124;43m\"\u001b[39;49m\u001b[38;5;124;43m%\u001b[39;49m\u001b[38;5;124;43mY-\u001b[39;49m\u001b[38;5;124;43m%\u001b[39;49m\u001b[38;5;124;43mM-\u001b[39;49m\u001b[38;5;132;43;01m%d\u001b[39;49;00m\u001b[38;5;124;43m \u001b[39;49m\u001b[38;5;124;43m%\u001b[39;49m\u001b[38;5;124;43mH:\u001b[39;49m\u001b[38;5;124;43m%\u001b[39;49m\u001b[38;5;124;43mM\u001b[39;49m\u001b[38;5;124;43m\"\u001b[39;49m\u001b[38;5;124;43m)}}\u001b[39;49m\u001b[38;5;124;43m\"\u001b[39;49m\u001b[38;5;124;43m'\u001b[39;49m\u001b[43m)\u001b[49m\n",
      "\u001b[0;31mValueError\u001b[0m: dictionary update sequence element #0 has length 1; 2 is required"
     ]
    }
   ],
   "source": [
    "x = '{\"message\":\"Call mom\",\"reminder_time\":\"{(datetime.now() + timedelta(weeks=1)).strftime(\"%Y-%M-%d %H:%M\")}}\"'\n"
   ]
  },
  {
   "cell_type": "code",
   "execution_count": 49,
   "id": "2c79d041-57d6-477b-b326-c8133c6ef1e7",
   "metadata": {},
   "outputs": [
    {
     "ename": "ProgrammingError",
     "evalue": "Cannot operate on a closed database.",
     "output_type": "error",
     "traceback": [
      "\u001b[0;31m---------------------------------------------------------------------------\u001b[0m",
      "\u001b[0;31mProgrammingError\u001b[0m                          Traceback (most recent call last)",
      "Cell \u001b[0;32mIn[49], line 1\u001b[0m\n\u001b[0;32m----> 1\u001b[0m \u001b[43mdb\u001b[49m\u001b[38;5;241;43m.\u001b[39;49m\u001b[43mexecute\u001b[49m\u001b[43m(\u001b[49m\u001b[38;5;124;43m\"\u001b[39;49m\u001b[38;5;124;43mselect * from reminders\u001b[39;49m\u001b[38;5;124;43m\"\u001b[39;49m\u001b[43m)\u001b[49m\u001b[38;5;241m.\u001b[39mfetchall()\n",
      "\u001b[0;31mProgrammingError\u001b[0m: Cannot operate on a closed database."
     ]
    }
   ],
   "source": [
    "db.execute(\"select * from reminders\").fetchall()"
   ]
  },
  {
   "cell_type": "code",
   "execution_count": 35,
   "id": "64f5ea33-ea5a-46b9-be73-9f6ebf1b3ef8",
   "metadata": {},
   "outputs": [
    {
     "data": {
      "text/plain": [
       "array([False, False,  True, False,  True,  True])"
      ]
     },
     "execution_count": 35,
     "metadata": {},
     "output_type": "execute_result"
    }
   ],
   "source": [
    "x = 'y==1'\n",
    "eval(x)\n"
   ]
  },
  {
   "cell_type": "code",
   "execution_count": 22,
   "id": "c544479b-b230-4288-a9ba-467daf390f51",
   "metadata": {},
   "outputs": [
    {
     "data": {
      "text/plain": [
       "\u001b[0;31mSignature:\u001b[0m \u001b[0mopenai\u001b[0m\u001b[0;34m.\u001b[0m\u001b[0mChatCompletion\u001b[0m\u001b[0;34m.\u001b[0m\u001b[0mcreate\u001b[0m\u001b[0;34m(\u001b[0m\u001b[0;34m*\u001b[0m\u001b[0margs\u001b[0m\u001b[0;34m,\u001b[0m \u001b[0;34m**\u001b[0m\u001b[0mkwargs\u001b[0m\u001b[0;34m)\u001b[0m\u001b[0;34m\u001b[0m\u001b[0;34m\u001b[0m\u001b[0m\n",
       "\u001b[0;31mDocstring:\u001b[0m\n",
       "Creates a new chat completion for the provided messages and parameters.\n",
       "\n",
       "See https://platform.openai.com/docs/api-reference/chat-completions/create\n",
       "for a list of valid parameters.\n",
       "\u001b[0;31mFile:\u001b[0m      ~/.local/lib/python3.9/site-packages/openai/api_resources/chat_completion.py\n",
       "\u001b[0;31mType:\u001b[0m      method\n"
      ]
     },
     "metadata": {},
     "output_type": "display_data"
    }
   ],
   "source": [
    "?openai.ChatCompletion.create"
   ]
  },
  {
   "cell_type": "code",
   "execution_count": null,
   "id": "a1421953-2061-4170-9e3c-2c0daba563d4",
   "metadata": {},
   "outputs": [],
   "source": [
    "k = \"(datetime.now() + timedelta(weeks=1)).strftime(\"%Y-%m-%d\")\""
   ]
  },
  {
   "cell_type": "code",
   "execution_count": 20,
   "id": "fd3ef5d6-7fb8-477e-89fc-5bcc32f56a2c",
   "metadata": {},
   "outputs": [
    {
     "name": "stdout",
     "output_type": "stream",
     "text": [
      "Epoch 1/10\n",
      "6/6 [==============================] - 1s 5ms/step - loss: 0.9500 - accuracy: 0.5000\n",
      "Epoch 2/10\n",
      "6/6 [==============================] - 0s 6ms/step - loss: 0.6169 - accuracy: 0.6667\n",
      "Epoch 3/10\n",
      "6/6 [==============================] - 0s 8ms/step - loss: 0.3739 - accuracy: 0.8333\n",
      "Epoch 4/10\n",
      "6/6 [==============================] - 0s 6ms/step - loss: 0.2873 - accuracy: 0.8333\n",
      "Epoch 5/10\n",
      "6/6 [==============================] - 0s 8ms/step - loss: 0.1607 - accuracy: 0.8333\n",
      "Epoch 6/10\n",
      "6/6 [==============================] - 0s 7ms/step - loss: 0.1056 - accuracy: 1.0000\n",
      "Epoch 7/10\n",
      "6/6 [==============================] - 0s 8ms/step - loss: 0.0680 - accuracy: 1.0000\n",
      "Epoch 8/10\n",
      "6/6 [==============================] - 0s 18ms/step - loss: 0.0517 - accuracy: 1.0000\n",
      "Epoch 9/10\n",
      "6/6 [==============================] - 0s 6ms/step - loss: 0.0383 - accuracy: 1.0000\n",
      "Epoch 10/10\n",
      "6/6 [==============================] - 0s 6ms/step - loss: 0.0332 - accuracy: 1.0000\n",
      "WARNING:tensorflow:5 out of the last 9 calls to <function Model.make_predict_function.<locals>.predict_function at 0x7dd02b0e50> triggered tf.function retracing. Tracing is expensive and the excessive number of tracings could be due to (1) creating @tf.function repeatedly in a loop, (2) passing tensors with different shapes, (3) passing Python objects instead of tensors. For (1), please define your @tf.function outside of the loop. For (2), @tf.function has reduce_retracing=True option that can avoid unnecessary retracing. For (3), please refer to https://www.tensorflow.org/guide/function#controlling_retracing and https://www.tensorflow.org/api_docs/python/tf/function for  more details.\n",
      "1/1 [==============================] - 0s 90ms/step\n",
      "Predicted label: other\n"
     ]
    }
   ],
   "source": [
    "import numpy as np\n",
    "from tensorflow.keras.models import Sequential\n",
    "from tensorflow.keras.layers import Dense\n",
    "\n",
    "# Dummy data for demonstration\n",
    "messages = [\n",
    "    \"Remind me to pick up the kids in three hours and fourty five minutes\",\n",
    "    \"Remind me to turn in my homework at midnight\",\n",
    "    \"What's your favorite color?\",\n",
    "    \"Remind me to call mom at 3pm.\",\n",
    "    \"Can you send me the report?\",\n",
    "    \"Buy tickets for the concert\"\n",
    "]\n",
    "labels = ['reminder', 'reminder', 'other', 'reminder', 'other', 'other']\n",
    "\n",
    "# Preprocessing\n",
    "vocab = set(' '.join(messages).lower().split())\n",
    "vocab_size = len(vocab)\n",
    "word_to_index = {word: index for index, word in enumerate(vocab)}\n",
    "max_sequence_length = max(len(message.split()) for message in messages)\n",
    "\n",
    "# Convert sentences to numerical sequences\n",
    "X = np.zeros((len(messages), max_sequence_length))\n",
    "for i, message in enumerate(messages):\n",
    "    words = message.lower().split()\n",
    "    for j, word in enumerate(words):\n",
    "        X[i, j] = word_to_index[word]\n",
    "\n",
    "# Convert labels to numerical values\n",
    "label_to_index = {'reminder': 0, 'other': 1}\n",
    "y = np.array([label_to_index[label] for label in labels])\n",
    "\n",
    "# Define the model\n",
    "model = Sequential()\n",
    "model.add(Dense(64, activation='relu', input_shape=(max_sequence_length,)))\n",
    "model.add(Dense(1, activation='sigmoid'))\n",
    "\n",
    "# Compile the model\n",
    "model.compile(optimizer='adam', loss='binary_crossentropy', metrics=['accuracy'])\n",
    "\n",
    "# Train the model\n",
    "model.fit(X, y, epochs=10, batch_size=1, verbose=1)\n",
    "\n",
    "def classify_string(input_string):\n",
    "    # Preprocess the input string\n",
    "    new_sequence = np.zeros((1, max_sequence_length))\n",
    "    words = input_string.lower().split()\n",
    "    for j, word in enumerate(words):\n",
    "        if word in word_to_index:\n",
    "            new_sequence[0, j] = word_to_index[word]\n",
    "\n",
    "    # Make prediction\n",
    "    prediction = model.predict(new_sequence)\n",
    "    predicted_label = 'reminder' if prediction < 0.5 else 'other'\n",
    "    \n",
    "    return predicted_label\n",
    "\n",
    "# Example usage\n",
    "new_string = \"Remind me to submit the report\"\n",
    "predicted_label = classify_string(new_string)\n",
    "print(\"Predicted label:\", predicted_label)\n"
   ]
  },
  {
   "cell_type": "code",
   "execution_count": 18,
   "id": "40e0cb56-d8bc-418e-a2c0-acfe2f824a60",
   "metadata": {},
   "outputs": [
    {
     "name": "stdout",
     "output_type": "stream",
     "text": [
      "1/1 [==============================] - 0s 57ms/step\n",
      "Predicted label: reminder\n"
     ]
    }
   ],
   "source": [
    "new_sentence = \"Write a sentence to summarize Romeo & Juliet\"\n",
    "new_sequence = np.zeros((1, max_sequence_length))\n",
    "words = new_sentence.lower().split()\n",
    "for j, word in enumerate(words):\n",
    "    if word in word_to_index:\n",
    "        new_sequence[0, j] = word_to_index[word]\n",
    "prediction = model.predict(new_sequence)\n",
    "predicted_label = 'reminder' if prediction < 0.5 else 'other'\n",
    "print(\"Predicted label:\", predicted_label)"
   ]
  },
  {
   "cell_type": "code",
   "execution_count": null,
   "id": "a3c7fc35-ddad-4064-9e4c-8976c9bd58a6",
   "metadata": {},
   "outputs": [],
   "source": [
    "def classify_string(input_string):\n",
    "    # Preprocess the input string\n",
    "    new_sequence = np.zeros((1, max_sequence_length))\n",
    "    words = input_string.lower().split()\n",
    "    for j, word in enumerate(words):\n",
    "        if word in word_to_index:\n",
    "            new_sequence[0, j] = word_to_index[word]\n",
    "\n",
    "    # Make prediction\n",
    "    prediction = model.predict(new_sequence)\n",
    "    predicted_label = 'reminder' if prediction < 0.5 else 'other'\n",
    "    \n",
    "    return predicted_label\n",
    "\n",
    "# Example usage\n",
    "new_string = \"Remind me to submit the report\"\n",
    "predicted_label = classify_string(new_string)\n",
    "print(\"Predicted label:\", predicted_label)\n"
   ]
  }
 ],
 "metadata": {
  "kernelspec": {
   "display_name": "Python 3 (ipykernel)",
   "language": "python",
   "name": "python3"
  },
  "language_info": {
   "codemirror_mode": {
    "name": "ipython",
    "version": 3
   },
   "file_extension": ".py",
   "mimetype": "text/x-python",
   "name": "python",
   "nbconvert_exporter": "python",
   "pygments_lexer": "ipython3",
   "version": "3.9.2"
  }
 },
 "nbformat": 4,
 "nbformat_minor": 5
}
